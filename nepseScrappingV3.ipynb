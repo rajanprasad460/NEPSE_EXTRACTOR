{
 "cells": [
  {
   "cell_type": "code",
   "execution_count": null,
   "id": "a1257ad6",
   "metadata": {
    "ExecuteTime": {
     "end_time": "2022-08-04T18:21:47.279381Z",
     "start_time": "2022-08-04T18:21:44.464963Z"
    }
   },
   "outputs": [],
   "source": [
    "import math\n",
    "\n",
    "import htmltable_V2\n",
    "import pandas as pd\n",
    "import numpy as np\n",
    "# importing regular expression module to match the expressions\n",
    "import re\n",
    "\n",
    "link = 'http://www.nepalstock.com/main/floorsheet/index/2/?contract-no=&stock-symbol=&buyer=&seller=&_limit=10';\n",
    "#link = 'http://www.nepalstock.com/'\n",
    "list3,output,count = htmltable_V2.extracttable(link);\n",
    "\n",
    "\n",
    "#for m in np.arange(count):\n",
    "    #print (output[m])\n",
    "    \n",
    "#print('The total number of table on the page is',count)\n"
   ]
  },
  {
   "cell_type": "code",
   "execution_count": null,
   "id": "a8882dc4",
   "metadata": {
    "ExecuteTime": {
     "end_time": "2022-08-04T18:21:47.295297Z",
     "start_time": "2022-08-04T18:21:47.280336Z"
    }
   },
   "outputs": [],
   "source": [
    "# Finding number of pages\n",
    "df = output[0]\n",
    "npages = df[0][11]\n",
    "page=''\n",
    "p_pattern = \"/.*?&\"\n",
    "p_num = re.findall(p_pattern, npages)\n",
    "p_num = page.join(p_num) \n",
    "p_num = re.sub(\"/\",\"\",p_num)\n",
    "p_num = re.sub(\"&\",\"\",p_num)\n",
    "p_num"
   ]
  },
  {
   "cell_type": "code",
   "execution_count": null,
   "id": "d8562d8a",
   "metadata": {
    "ExecuteTime": {
     "end_time": "2022-08-04T18:21:47.310258Z",
     "start_time": "2022-08-04T18:21:47.297292Z"
    }
   },
   "outputs": [],
   "source": [
    "# Total number of data estimation \n",
    "total_data = int(p_num)*10\n",
    "total_page = total_data/5000\n",
    "total_page = math.ceil(total_page)\n",
    "total_page"
   ]
  },
  {
   "cell_type": "code",
   "execution_count": null,
   "id": "9accc619",
   "metadata": {
    "ExecuteTime": {
     "end_time": "2022-08-04T18:36:49.775771Z",
     "start_time": "2022-08-04T18:21:47.312253Z"
    }
   },
   "outputs": [],
   "source": [
    "# using for loop to get all the data\n",
    "DATA = pd.DataFrame();\n",
    "for i in np.arange(total_page):\n",
    "    link = 'http://www.nepalstock.com/main/floorsheet/index/'+str(i+1)+'/?contract-no=&stock-symbol=&buyer=&seller=&_limit=5000';\n",
    "    #print(link)\n",
    "    print('Currently in Page',i+1,'Percentage',int(((i+1)/total_page)*100),'%');\n",
    "    list3,output,count = htmltable_V2.extracttable(link);\n",
    "    data = output[0];\n",
    "    [m1,n1]= np.shape(output[0])\n",
    "    data_t = data.drop([0,m1-3,m1-2,m1-1])\n",
    "    if i<1:\n",
    "        DATA =data_t\n",
    "    else:\n",
    "        #DATA = DATA.append(data_t)\n",
    "        # using pandas.concat instead.\n",
    "        DATA = pd.concat([DATA,data_t], ignore_index=True);\n",
    "    \n",
    "    "
   ]
  },
  {
   "cell_type": "code",
   "execution_count": null,
   "id": "80d9253f",
   "metadata": {
    "ExecuteTime": {
     "end_time": "2022-08-04T18:36:49.805690Z",
     "start_time": "2022-08-04T18:36:49.779760Z"
    }
   },
   "outputs": [],
   "source": [
    "# Choosing header names\n",
    "headers = data[:1]\n",
    "#headers\n",
    "# adding column name to the respective columns\n",
    "DATA.columns =headers.values.tolist()"
   ]
  },
  {
   "cell_type": "code",
   "execution_count": null,
   "id": "6578d912",
   "metadata": {
    "ExecuteTime": {
     "end_time": "2022-08-04T18:36:50.052033Z",
     "start_time": "2022-08-04T18:36:49.807688Z"
    }
   },
   "outputs": [],
   "source": [
    "#saving the csv file\n",
    "# Determine the file name\n",
    "date_index = data[1][4];\n",
    "filename = date_index[0:8]+'.csv';\n",
    "#DATA.to_csv(index=False)\n",
    "DATA.to_csv(filename,index=False)"
   ]
  },
  {
   "cell_type": "code",
   "execution_count": null,
   "id": "35425af3",
   "metadata": {
    "ExecuteTime": {
     "end_time": "2022-08-04T18:36:50.081954Z",
     "start_time": "2022-08-04T18:36:50.053031Z"
    }
   },
   "outputs": [],
   "source": [
    "output[0]\n",
    "#[m1,n1]= np.shape(output[0])"
   ]
  },
  {
   "cell_type": "code",
   "execution_count": null,
   "id": "09103c44",
   "metadata": {
    "ExecuteTime": {
     "end_time": "2022-08-04T18:36:50.112874Z",
     "start_time": "2022-08-04T18:36:50.083950Z"
    }
   },
   "outputs": [],
   "source": [
    "data = output[0];\n",
    "[m1,n1]= np.shape(output[0])\n",
    "data_t = data.drop([0,m1-3,m1-2,m1-1])\n",
    "data_t"
   ]
  },
  {
   "cell_type": "code",
   "execution_count": null,
   "id": "6c65bb13",
   "metadata": {
    "ExecuteTime": {
     "end_time": "2022-08-04T18:36:50.127834Z",
     "start_time": "2022-08-04T18:36:50.116862Z"
    }
   },
   "outputs": [],
   "source": [
    "result = re.search('/(.*)&', npages)\n",
    "print(result.group(1))"
   ]
  },
  {
   "cell_type": "code",
   "execution_count": null,
   "id": "403939a1",
   "metadata": {
    "ExecuteTime": {
     "end_time": "2022-08-04T18:36:50.142792Z",
     "start_time": "2022-08-04T18:36:50.129826Z"
    }
   },
   "outputs": [],
   "source": [
    "str = \"krunal=21;iwanther19kb\"\n",
    "result = re.search('krunal=21;(.*)19kb', str)\n",
    "print(result.group(1))"
   ]
  },
  {
   "cell_type": "code",
   "execution_count": null,
   "id": "4f954aed",
   "metadata": {
    "ExecuteTime": {
     "end_time": "2022-08-04T18:36:50.172711Z",
     "start_time": "2022-08-04T18:36:50.144786Z"
    }
   },
   "outputs": [],
   "source": [
    "DATA"
   ]
  },
  {
   "cell_type": "code",
   "execution_count": null,
   "id": "e614cec8",
   "metadata": {
    "ExecuteTime": {
     "end_time": "2022-08-04T18:36:50.507834Z",
     "start_time": "2022-08-04T18:36:50.177700Z"
    }
   },
   "outputs": [],
   "source": [
    "DATA.sort_values(by=['Stock Symbol'])"
   ]
  },
  {
   "cell_type": "code",
   "execution_count": null,
   "id": "55ff1605",
   "metadata": {
    "ExecuteTime": {
     "end_time": "2022-08-04T18:36:50.519804Z",
     "start_time": "2022-08-04T18:36:50.519804Z"
    }
   },
   "outputs": [],
   "source": [
    "#pd.concat([DATA,data_t], ignore_index=True)"
   ]
  },
  {
   "cell_type": "code",
   "execution_count": null,
   "id": "213f8907",
   "metadata": {
    "ExecuteTime": {
     "end_time": "2022-08-04T18:36:50.521799Z",
     "start_time": "2022-08-04T18:36:50.521799Z"
    }
   },
   "outputs": [],
   "source": [
    "DAT = pd.DataFrame();"
   ]
  },
  {
   "cell_type": "code",
   "execution_count": null,
   "id": "60b4d104",
   "metadata": {
    "ExecuteTime": {
     "end_time": "2022-08-04T18:36:50.522795Z",
     "start_time": "2022-08-04T18:36:50.522795Z"
    }
   },
   "outputs": [],
   "source": [
    "DAT"
   ]
  },
  {
   "cell_type": "code",
   "execution_count": null,
   "id": "884e8966",
   "metadata": {
    "ExecuteTime": {
     "end_time": "2022-08-04T18:36:50.524791Z",
     "start_time": "2022-08-04T18:36:50.524791Z"
    }
   },
   "outputs": [],
   "source": [
    "data"
   ]
  },
  {
   "cell_type": "code",
   "execution_count": null,
   "id": "1bf9da59",
   "metadata": {
    "ExecuteTime": {
     "end_time": "2022-08-04T18:36:50.526785Z",
     "start_time": "2022-08-04T18:36:50.526785Z"
    }
   },
   "outputs": [],
   "source": [
    "data = output[0]"
   ]
  },
  {
   "cell_type": "code",
   "execution_count": null,
   "id": "3207279a",
   "metadata": {
    "ExecuteTime": {
     "end_time": "2022-08-04T18:36:50.527781Z",
     "start_time": "2022-08-04T18:36:50.527781Z"
    }
   },
   "outputs": [],
   "source": [
    "data"
   ]
  },
  {
   "cell_type": "code",
   "execution_count": null,
   "id": "f00217c1",
   "metadata": {
    "ExecuteTime": {
     "end_time": "2022-08-04T18:36:50.529779Z",
     "start_time": "2022-08-04T18:36:50.529779Z"
    }
   },
   "outputs": [],
   "source": [
    "date_index = data[1][4]\n",
    "\n",
    "date_index"
   ]
  },
  {
   "cell_type": "code",
   "execution_count": null,
   "id": "35b37435",
   "metadata": {
    "ExecuteTime": {
     "end_time": "2022-08-04T18:36:50.530774Z",
     "start_time": "2022-08-04T18:36:50.530774Z"
    }
   },
   "outputs": [],
   "source": [
    "date_index[0:8]"
   ]
  },
  {
   "cell_type": "code",
   "execution_count": null,
   "id": "a065833f",
   "metadata": {
    "ExecuteTime": {
     "end_time": "2022-08-04T18:36:50.533767Z",
     "start_time": "2022-08-04T18:36:50.533767Z"
    }
   },
   "outputs": [],
   "source": [
    "filename = date_index[0:8]+'.csv';\n",
    "filename"
   ]
  },
  {
   "cell_type": "code",
   "execution_count": null,
   "id": "85f58ae7",
   "metadata": {
    "ExecuteTime": {
     "end_time": "2022-08-04T18:36:50.534765Z",
     "start_time": "2022-08-04T18:36:50.534765Z"
    }
   },
   "outputs": [],
   "source": [
    "output.text"
   ]
  },
  {
   "cell_type": "code",
   "execution_count": null,
   "id": "b9cf9c20",
   "metadata": {},
   "outputs": [],
   "source": []
  }
 ],
 "metadata": {
  "kernelspec": {
   "display_name": "PRajan",
   "language": "python",
   "name": "prajan"
  },
  "language_info": {
   "codemirror_mode": {
    "name": "ipython",
    "version": 3
   },
   "file_extension": ".py",
   "mimetype": "text/x-python",
   "name": "python",
   "nbconvert_exporter": "python",
   "pygments_lexer": "ipython3",
   "version": "3.9.7"
  },
  "toc": {
   "base_numbering": 1,
   "nav_menu": {},
   "number_sections": true,
   "sideBar": true,
   "skip_h1_title": false,
   "title_cell": "Table of Contents",
   "title_sidebar": "Contents",
   "toc_cell": false,
   "toc_position": {},
   "toc_section_display": true,
   "toc_window_display": false
  },
  "varInspector": {
   "cols": {
    "lenName": 16,
    "lenType": 16,
    "lenVar": 40
   },
   "kernels_config": {
    "python": {
     "delete_cmd_postfix": "",
     "delete_cmd_prefix": "del ",
     "library": "var_list.py",
     "varRefreshCmd": "print(var_dic_list())"
    },
    "r": {
     "delete_cmd_postfix": ") ",
     "delete_cmd_prefix": "rm(",
     "library": "var_list.r",
     "varRefreshCmd": "cat(var_dic_list()) "
    }
   },
   "types_to_exclude": [
    "module",
    "function",
    "builtin_function_or_method",
    "instance",
    "_Feature"
   ],
   "window_display": false
  }
 },
 "nbformat": 4,
 "nbformat_minor": 5
}
